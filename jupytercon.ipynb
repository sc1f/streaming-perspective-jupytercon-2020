{
 "cells": [
  {
   "cell_type": "code",
   "execution_count": null,
   "metadata": {},
   "outputs": [],
   "source": [
    "# Basic imports\n",
    "import nbimporter\n",
    "import logging\n",
    "import json\n",
    "import random\n",
    "import time\n",
    "import asyncio\n",
    "import threading\n",
    "from datetime import date, datetime\n",
    "\n",
    "# Library imports\n",
    "import pandas as pd\n",
    "import numpy as np\n",
    "import pyarrow as pa\n",
    "\n",
    "# pyEX is an easy-to-use IEX API interface built for Python\n",
    "import pyEX\n",
    "\n",
    "# The main course\n",
    "import perspective\n",
    "\n",
    "logging.basicConfig(format=\"%(asctime)s %(message)s\", level=logging.INFO)"
   ]
  },
  {
   "cell_type": "markdown",
   "metadata": {},
   "source": [
    "# Streaming Data Sources\n",
    "\n",
    "Inside `datasources.ipynb`, there are a few streaming datasources that will feed live data to Perspective. \n",
    "\n",
    "Each datasource runs on its own subprocess and subthread in order to not block the main Jupyter thread from running, so cells can still be added and evaluated as normal. In the background, the datasource will fetch data, clean it (if necessary), and update the Perspective tables—which will display the new results in each widget in the notebook."
   ]
  },
  {
   "cell_type": "code",
   "execution_count": 24,
   "metadata": {},
   "outputs": [],
   "source": [
    "from datasources import IEXIntervalDataSource, IEXStaticDataSource\n",
    "from schemas import last_quote_schema, holdings_schema, charts_schema\n",
    "\n",
    "# Create a pyEX client with the token - this is just an example sandbox token.\n",
    "token = \"Tpk_ecc89ddf30a611e9958142010a80043c\"\n",
    "client = pyEX.Client(api_token=token, version=\"sandbox\")"
   ]
  },
  {
   "cell_type": "markdown",
   "metadata": {},
   "source": [
    "### Our Portfolio\n",
    "\n",
    "For this demonstration, let's set up a fictional portfolio of stocks—it's one of the most natural use cases for streaming data, and it provides a way for us to join static and streaming data together intuitively. In a more comprehensive example, our holdings of individual stocks will probably change over time, but we'll keep it fixed for now."
   ]
  },
  {
   "cell_type": "code",
   "execution_count": null,
   "metadata": {},
   "outputs": [],
   "source": [
    "symbols = [\"AAPL\", \"MSFT\", \"AMZN\", \"TSLA\", \"SPY\", \"SNAP\", \"ZM\"]\n",
    "holdings = {symbol: random.randint(5, 10) for symbol in symbols}"
   ]
  },
  {
   "cell_type": "markdown",
   "metadata": {},
   "source": [
    "To save our portfolio, we're going to use two Perspective tables:\n",
    "\n",
    "- `holdings_table`, which is indexed on `symbol` and will always return the latest value of our portfolio based on the prices for each component.\n",
    "- `holdings_total_table`, which is not indexed, and will hold a history of prices and values for each symbol, allowing us to see the value of our portfolio over time.\n",
    "\n",
    "Using `on_update`, we link the two tables together; whenever `holdings_table` updates from the datasource, it will pass the updated rows to `holdings_total_table`."
   ]
  },
  {
   "cell_type": "code",
   "execution_count": null,
   "metadata": {},
   "outputs": [],
   "source": [
    "# Create the table from schema\n",
    "holdings_table = perspective.Table(holdings_schema, index=\"symbol\")\n",
    "\n",
    "# Update it with the symbols and quantities of each stock\n",
    "holdings_table.update({\n",
    "    \"symbol\": symbols,\n",
    "    \"quantity\": [holdings[symbol] for symbol in symbols]\n",
    "})\n",
    "\n",
    "# Create the unindexed total table\n",
    "holdings_total_table = perspective.Table(holdings_schema)\n",
    "holdings_view = holdings_table.view()\n",
    "\n",
    "def update_total(port, delta):\n",
    "    \"\"\"When the indexed table updates with the latest price, update the unindexed table with the rows that changed.\"\"\"\n",
    "    holdings_total_table.update(delta)\n",
    "\n",
    "holdings_view.on_update(update_total, mode=\"row\")"
   ]
  },
  {
   "cell_type": "markdown",
   "metadata": {},
   "source": [
    "Using our indexed `holdings_table`, we can create a new `PerspectiveWidget` to view the Table in Jupyterlab. Using `PerspectiveWidget`'s configuration options, we can set up the view to be exactly what we want—to show the latest price and value for our portfolio.\n",
    "\n",
    "### Computed Columns\n",
    "\n",
    "We now have the price and the quantity of each holding, but how would we calculate the value? We can do so entirely within Perspective, using the Computed Expressions UI on the widget. Using a simple, minimal expression language with syntax highlighting and type checking, we can calculate the value of each holding by multiplying the price by the quantity across each row."
   ]
  },
  {
   "cell_type": "code",
   "execution_count": null,
   "metadata": {},
   "outputs": [],
   "source": [
    "holdings_widget = perspective.PerspectiveWidget(\n",
    "    holdings_table,\n",
    "    aggregates={\n",
    "        \"value\": \"sum not null\",\n",
    "        \"price\": \"last\"\n",
    "    },\n",
    "    row_pivots=[\"symbol\"],\n",
    "    columns=[\"price\", \"quantity\", \"value\"],\n",
    "    sort=[[\"value\", \"desc\"]],\n",
    "    computed_columns=[{\n",
    "        \"column\": \"value\", \n",
    "        \"computed_function_name\": \"*\",\n",
    "        \"inputs\": [\"quantity\", \"price\"]\n",
    "    }]\n",
    ")\n",
    "holdings_widget"
   ]
  },
  {
   "cell_type": "markdown",
   "metadata": {},
   "source": [
    "And do the same for our `holdings_total_table`—here, we see a line chart of the portfolio value as new prices tick in, split by each symbol so we can see how the portfolio's total value is divided amongst each component."
   ]
  },
  {
   "cell_type": "code",
   "execution_count": null,
   "metadata": {},
   "outputs": [],
   "source": [
    "holdings_total_widget = perspective.PerspectiveWidget(\n",
    "    holdings_total_table,\n",
    "    plugin=\"y_line\",\n",
    "    row_pivots=[\"time\"],\n",
    "    column_pivots=[\"symbol\"],\n",
    "    aggregates={\n",
    "        \"quantity\": \"last\",\n",
    "        \"price\": \"last\"\n",
    "    },\n",
    "    columns=[\"value\"],\n",
    "    computed_columns=[{\n",
    "        \"column\": \"value\", \n",
    "        \"computed_function_name\": \"*\",\n",
    "        \"inputs\": [\"quantity\", \"price\"]\n",
    "    }]\n",
    ")\n",
    "holdings_total_widget"
   ]
  },
  {
   "cell_type": "markdown",
   "metadata": {},
   "source": [
    "### Joining streaming and static data sources\n",
    "\n",
    "Now that we can see our portfolio values, let's feed the real-time price of each symbol into the portfolio tables. To do this, we'll create another `Table` with\n",
    "`last_quote_schema`, which conforms to the output from IEX's [Last](https://iexcloud.io/docs/api/#last) endpoint. This API provides \"a near real time, intraday API that provides IEX last sale price, size and time,\" and is perfect for calculating the value of our portfolio quickly.\n",
    "\n",
    "We'll use `on_update` again—when `quotes_table` updates with a new quote, feed it into `holdings_table`. This will update the latest price of the symbol in our holdings, which will then (with the `on_update` callback we created earlier) feed the `holdings_total_table`. Thus, data flows from the streaming datasource."
   ]
  },
  {
   "cell_type": "code",
   "execution_count": null,
   "metadata": {},
   "outputs": [],
   "source": [
    "quotes_table = perspective.Table(last_quote_schema)\n",
    "quotes_view = quotes_table.view()\n",
    "\n",
    "def update_holdings(port, delta):\n",
    "    holdings_table.update(delta)\n",
    "    \n",
    "quotes_view.on_update(update_holdings, mode=\"row\")"
   ]
  },
  {
   "cell_type": "markdown",
   "metadata": {},
   "source": [
    "We can create another widget - here we want to see the last (latest) price for each symbol, sorted by price descending:"
   ]
  },
  {
   "cell_type": "code",
   "execution_count": null,
   "metadata": {},
   "outputs": [],
   "source": [
    "quotes_widget = perspective.PerspectiveWidget(\n",
    "    quotes_table,\n",
    "    row_pivots=[\"symbol\"],\n",
    "    columns=[\"price\"],\n",
    "    aggregates={\"price\": \"last\"},\n",
    "    sort=[[\"price\", \"desc\"]])\n",
    "\n",
    "quotes_total_widget = perspective.PerspectiveWidget(\n",
    "    quotes_table,\n",
    "    row_pivots=[\"symbol\"],\n",
    "    columns=[\"price\"],\n",
    "    aggregates={\"price\": \"last\"},\n",
    "    sort=[[\"price\", \"desc\"]])\n",
    "\n",
    "display(quotes_widget, quotes_total_widget)"
   ]
  },
  {
   "cell_type": "markdown",
   "metadata": {},
   "source": [
    "### Starting our datasource\n",
    "\n",
    "Now we can start the streaming datasource by providing it with a table and a function that returns data. Because `quote` is not implemented with Server-Sent Events (SSE), we want to manually poll the server every second—which works just as well for our purposes."
   ]
  },
  {
   "cell_type": "code",
   "execution_count": null,
   "metadata": {},
   "outputs": [],
   "source": [
    "# Clean the quotes to have the right format for sandbox data, which comes with randomly generated `time`s\n",
    "def clean_quote(tick):\n",
    "    for t in tick:\n",
    "        t[\"time\"] = datetime.now()\n",
    "    return tick\n",
    "\n",
    "quotes = IEXIntervalDataSource(table=quotes_table, iex_source=client.last, data_cleaner=clean_quote, symbols=symbols)\n",
    "\n",
    "# Start the subprocess and thread\n",
    "quotes.start()"
   ]
  },
  {
   "cell_type": "markdown",
   "metadata": {},
   "source": [
    "### Backtesting\n",
    "\n",
    "Seeing live data is great, but what if we want to see how our portfolio has performed over time? By joining together Perspective tables, we can use IEX's [Historical Prices](https://iexcloud.io/docs/api/#historical-prices) endpoint to fetch historical data for backtesting. Then, we'll fetch our portfolio holdings from `holdings_table`, and join our holdings with the historical price data."
   ]
  },
  {
   "cell_type": "code",
   "execution_count": null,
   "metadata": {},
   "outputs": [],
   "source": [
    "# charts_schema conforms to the output of Historical Prices, with `quantity` added so we can easily join it with `holdings_table`.\n",
    "charts_table = perspective.Table(charts_schema)"
   ]
  },
  {
   "cell_type": "markdown",
   "metadata": {},
   "source": [
    "In our data cleaner function, we transform the chart data from the API to the correct format, and add our holdings for each symbol.\n",
    "\n",
    "We don't need to poll the API for historical prices - getting everything in one shot is enough. Here, we'll get data for the last year (controlled by the `range_` kwarg)."
   ]
  },
  {
   "cell_type": "code",
   "execution_count": null,
   "metadata": {},
   "outputs": [],
   "source": [
    "def clean_charts(tick):\n",
    "    out = []\n",
    "    for k, v in tick.items():\n",
    "        chart = v[\"chart\"]\n",
    "        for c in chart:\n",
    "            c[\"symbol\"] = k\n",
    "            c[\"quantity\"] = holdings[k]\n",
    "            out.append(c)\n",
    "    return out\n",
    "\n",
    "# range_: 1d, 1m, 1y, etc.\n",
    "charts = IEXStaticDataSource(charts_table, iex_source=client.batch, data_cleaner=clean_charts, symbols=symbols, fields=\"chart\", range_=\"5y\")\n",
    "charts.start()"
   ]
  },
  {
   "cell_type": "markdown",
   "metadata": {},
   "source": [
    "Create some more widgets - we can pass in the config as a dictionary, which allows us to switch quickly between widget configurations.\n",
    "\n",
    "- `ohlc_config` shows the Open, High, Low, and Close prices for `SPY`, which tracks the S&P 500 index. Changing the filter (or removing it entirely) will show exactly the symbols you want to see.\n",
    "- `value_config` computes the `value` column, which uses the quantity and each day's closing price to calculate the value of each symbol at the end of the day. This allows us to see the value of our portfolio split by symbol in the past year."
   ]
  },
  {
   "cell_type": "code",
   "execution_count": null,
   "metadata": {},
   "outputs": [],
   "source": [
    "ohlc_config = {\n",
    "    \"plugin\": \"d3_ohlc\",\n",
    "    \"row_pivots\": [\"date\"],\n",
    "    \"columns\": [\"open\", \"close\", \"high\", \"low\"],\n",
    "    \"aggregates\": {\"quantity\": \"last\"},\n",
    "    \"filters\": [[\"symbol\", \"==\", \"SPY\"]]\n",
    "}\n",
    "\n",
    "value_config = {\n",
    "    \"plugin\": \"y_line\",\n",
    "    \"row_pivots\": [\"date\"],\n",
    "    \"column_pivots\": [\"symbol\"],\n",
    "    \"columns\": [\"value\"],\n",
    "    \"aggregates\": {\"quantity\": \"last\"},\n",
    "    \"computed_columns\": [{\n",
    "        \"column\": \"value\", \n",
    "        \"computed_function_name\": \"*\",\n",
    "        \"inputs\": [\"quantity\", \"close\"]\n",
    "    }]\n",
    "}\n",
    "\n",
    "charts_widget = perspective.PerspectiveWidget(\n",
    "    charts_table,\n",
    "    **ohlc_config\n",
    ")\n",
    "charts_widget"
   ]
  },
  {
   "cell_type": "markdown",
   "metadata": {},
   "source": [
    "### Saving to Apache Arrow\n",
    "\n",
    "Now we have our portfolio tables set up, how would we archive the value of our portfolio over time? One way is to write to [Apache Arrow](https://arrow.apache.org/), a storage format for columnar data that is lightning-fast to read and write.\n",
    "\n",
    "We can set up a separate thread that calls the view's `to_arrow()` method every 60 seconds, and dump the current state of the holdings total table every minute. Using the `minute_bucket` computed column, we can bucket the price updates into minutes instead of keeping data from each second. With row and column pivots on `minute_bucket` and `symbol`, we can show the value of the portfolio split across each symbol for every minute. This allows us to persist data beyond the life-cycle of the notebook kernel."
   ]
  },
  {
   "cell_type": "code",
   "execution_count": null,
   "metadata": {},
   "outputs": [],
   "source": [
    "save_holdings_view = holdings_total_table.view(\n",
    "    aggregates={\n",
    "        \"value\": \"last\",\n",
    "        \"quantity\": \"last\"\n",
    "    },\n",
    "    column_pivots=[\"symbol\"],\n",
    "    row_pivots=[\"minute_bucket\"],\n",
    "    columns=[\"symbol\", \"quantity\", \"value\", \"time\"],\n",
    "    computed_columns=[\n",
    "        {\n",
    "            \"column\": \"value\", \n",
    "            \"computed_function_name\": \"*\",\n",
    "            \"inputs\": [\"quantity\", \"price\"]\n",
    "        },\n",
    "        {\n",
    "            \"column\": \"minute_bucket\",\n",
    "            \"computed_function_name\": \"minute_bucket\",\n",
    "            \"inputs\": [\"time\"]\n",
    "        }\n",
    "    ]\n",
    ")\n",
    "\n",
    "stop_save = False\n",
    "\n",
    "async def _save():\n",
    "    while True:\n",
    "        if stop_save:\n",
    "            return\n",
    "\n",
    "        name = \"portfolio_value_{0:%Y_%m_%d}.arrow\".format(datetime.today())\n",
    "\n",
    "        if save_holdings_view.num_rows() > 0:\n",
    "            with open(name, \"wb\") as value_arrow:\n",
    "                value_arrow.write(save_holdings_view.to_arrow())\n",
    "            logging.info(\"Saved %d rows to %s\", holdings_total_table.size(), name)\n",
    "        await asyncio.sleep(60)\n",
    "\n",
    "def save_to_arrow():\n",
    "    loop = asyncio.new_event_loop()\n",
    "    asyncio.set_event_loop(loop)\n",
    "    task = loop.create_task(_save())\n",
    "    loop.run_until_complete(task)\n",
    "    \n",
    "save_thread = threading.Thread(target=save_to_arrow)\n",
    "save_thread.start()"
   ]
  },
  {
   "cell_type": "code",
   "execution_count": null,
   "metadata": {},
   "outputs": [],
   "source": [
    "with open(\"portfolio_value_{0:%Y_%m_%d}.arrow\".format(datetime.today()), \"rb\") as arr:\n",
    "    w = perspective.PerspectiveWidget(arr.read(), sort=[[\"time\", \"desc\"]])\n",
    "    display(w)"
   ]
  }
 ],
 "metadata": {
  "kernelspec": {
   "display_name": "Python 3",
   "language": "python",
   "name": "python3"
  },
  "language_info": {
   "codemirror_mode": {
    "name": "ipython",
    "version": 3
   },
   "file_extension": ".py",
   "mimetype": "text/x-python",
   "name": "python",
   "nbconvert_exporter": "python",
   "pygments_lexer": "ipython3",
   "version": "3.7.2"
  }
 },
 "nbformat": 4,
 "nbformat_minor": 4
}
